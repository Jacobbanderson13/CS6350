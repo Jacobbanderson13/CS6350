{
 "cells": [
  {
   "cell_type": "code",
   "execution_count": null,
   "id": "5911b948-a410-4b48-9d2b-1c5baf8fb3ff",
   "metadata": {},
   "outputs": [],
   "source": [
    "import xgboost as xgb\n",
    "from sklearn.metrics import roc_auc_score\n",
    "from sklearn.model_selection import GridSearchCV, train_test_split\n",
    "import numpy as np\n",
    "import pandas as pd\n",
    "from sklearn.preprocessing import LabelEncoder\n",
    "from sklearn.experimental import enable_iterative_imputer\n",
    "from sklearn.impute import IterativeImputer\n",
    "from hyperopt import fmin, tpe, hp, Trials, STATUS_OK"
   ]
  },
  {
   "cell_type": "code",
   "execution_count": null,
   "id": "9891216d-2977-47b5-b069-d6d8235a3fa8",
   "metadata": {},
   "outputs": [],
   "source": [
    "\n",
    "train = pd.read_csv('Data/train_final.csv')\n",
    "test_df = pd.read_csv('Data/test_final.csv')\n",
    "\n",
    "X = train.drop(columns=['income>50K'])\n",
    "y = train['income>50K']\n",
    "X_test = test_df.drop('ID', axis=1)\n",
    "ids = test_df['ID']\n",
    "\n",
    "\n",
    "def preprocess_missing_values(df):\n",
    "    return df.replace('?', np.nan)\n",
    "\n",
    "X = preprocess_missing_values(X)\n",
    "X_test = preprocess_missing_values(X_test)"
   ]
  },
  {
   "cell_type": "code",
   "execution_count": null,
   "id": "87892f5f-622c-4b70-b77e-22ad588e0df5",
   "metadata": {},
   "outputs": [],
   "source": [
    "def encode_categorical_columns(df):\n",
    "    for col in df.select_dtypes(include=['object']).columns:\n",
    "        df[col] = df[col].astype('category').cat.codes\n",
    "    return df\n",
    "\n",
    "X = encode_categorical_columns(X)\n",
    "X_test = encode_categorical_columns(X_test)\n",
    "\n",
    "def impute_missing_values(X_train, X_test):\n",
    "    imputer = IterativeImputer(max_iter=1000000, random_state=42, initial_strategy='most_frequent')\n",
    "    X_train_imputed = imputer.fit_transform(X_train)\n",
    "    X_test_imputed = imputer.transform(X_test)\n",
    "    return pd.DataFrame(X_train_imputed, columns=X_train.columns), pd.DataFrame(X_test_imputed, columns=X_test.columns)\n",
    "\n",
    "X, X_test = impute_missing_values(X, X_test)"
   ]
  },
  {
   "cell_type": "code",
   "execution_count": null,
   "id": "ec55feab-d7bf-4243-b212-6c1c931e788c",
   "metadata": {},
   "outputs": [],
   "source": [
    "def handle_categorical(X_train, X_test):\n",
    "    X_train = pd.get_dummies(X_train, drop_first=True)\n",
    "    \n",
    "    X_test = pd.get_dummies(X_test, drop_first=True)\n",
    "    \n",
    "    X_train, X_test = X_train.align(X_test, join='left', axis=1, fill_value=0)\n",
    "    \n",
    "    return X_train, X_test"
   ]
  },
  {
   "cell_type": "code",
   "execution_count": null,
   "id": "524933e4-1220-4c07-afd3-965a31c7f91f",
   "metadata": {},
   "outputs": [],
   "source": [
    "X, X_test = handle_categorical(X, X_test)\n"
   ]
  },
  {
   "cell_type": "code",
   "execution_count": null,
   "id": "ec8002e2-4e40-4f2a-8163-80b7ba1bacb8",
   "metadata": {},
   "outputs": [],
   "source": [
    "X_train, X_val, y_train, y_val = train_test_split(X, y, test_size=0.2, random_state=42, stratify=y)\n"
   ]
  },
  {
   "cell_type": "code",
   "execution_count": null,
   "id": "11db47ad-70f2-4b05-bbe0-359848262a0b",
   "metadata": {},
   "outputs": [],
   "source": [
    "def objective(params):\n",
    "    dtrain = xgb.DMatrix(X_train, label=y_train)\n",
    "    dval = xgb.DMatrix(X_val, label=y_val)\n",
    "    \n",
    "    xgb_params = {\n",
    "        'eta': params['eta'],\n",
    "        'max_depth': int(params['max_depth']),\n",
    "        'subsample': params['subsample'],\n",
    "        'colsample_bytree': params['colsample_bytree'],\n",
    "        'objective': 'binary:logistic',\n",
    "        'eval_metric': 'auc',\n",
    "        'seed': 42\n",
    "    }\n",
    "    \n",
    "    model = xgb.train(\n",
    "        xgb_params, \n",
    "        dtrain, \n",
    "        num_boost_round=int(params['n_estimators']),\n",
    "        evals=[(dval, 'validation')],\n",
    "        early_stopping_rounds=50,\n",
    "        verbose_eval=False\n",
    "    )\n",
    "    \n",
    "    preds = model.predict(dval)\n",
    "    \n",
    "    auc = roc_auc_score(y_val, preds)\n",
    "    \n",
    "    return {'loss': -auc, 'status': STATUS_OK}\n",
    "\n",
    "\n",
    "\n",
    "param_space = {\n",
    "    'eta': hp.uniform('eta', 0.01, 0.4),\n",
    "    'max_depth': hp.quniform('max_depth', 3, 10, 1),\n",
    "    'subsample': hp.uniform('subsample', 0.5, 1.0),\n",
    "    'colsample_bytree': hp.uniform('colsample_bytree', 0.5, 1.0),\n",
    "    'n_estimators': hp.quniform('n_estimators', 50, 700, 10) \n",
    "}\n",
    "\n",
    "\n",
    "trials = Trials()\n",
    "\n",
    "\n",
    "best_params = fmin(\n",
    "    fn=objective,\n",
    "    space=param_space,\n",
    "    algo=tpe.suggest,\n",
    "    max_evals=10000,  \n",
    "    trials=trials\n",
    ")\n",
    "\n",
    "\n",
    "best_params['max_depth'] = int(best_params['max_depth'])\n",
    "best_params['n_estimators'] = int(best_params['n_estimators'])\n",
    "\n",
    "print(\"Best Parameters:\", best_params)\n",
    "\n",
    "\n",
    "final_params = {\n",
    "    'eta': best_params['eta'],\n",
    "    'max_depth': best_params['max_depth'],\n",
    "    'subsample': best_params['subsample'],\n",
    "    'colsample_bytree': best_params['colsample_bytree'],\n",
    "    'objective': 'binary:logistic',\n",
    "    'eval_metric': 'auc',\n",
    "    'seed': 42\n",
    "}\n",
    "\n",
    "dtrain_final = xgb.DMatrix(X_train, label=y_train)\n",
    "dtest_final = xgb.DMatrix(X_test)"
   ]
  },
  {
   "cell_type": "code",
   "execution_count": null,
   "id": "46c09744-1ca1-4b4d-92be-3e4b8dbca2d9",
   "metadata": {},
   "outputs": [],
   "source": [
    "dtrain_final = xgb.DMatrix(X_train, label=y_train)\n",
    "dtest_final = xgb.DMatrix(X_test)\n",
    "\n",
    "final_model = xgb.train(\n",
    "    final_params,\n",
    "    dtrain_final,\n",
    "    num_boost_round=best_params['n_estimators']\n",
    ")\n"
   ]
  },
  {
   "cell_type": "code",
   "execution_count": null,
   "id": "0576bb0a-8acf-46ea-8b91-1cd0c9d7cb2d",
   "metadata": {},
   "outputs": [],
   "source": [
    "y_test_pred_proba = final_model.predict(dtest_final)\n"
   ]
  },
  {
   "cell_type": "code",
   "execution_count": null,
   "id": "88e59172-5cf0-4e73-a589-32622724a753",
   "metadata": {},
   "outputs": [],
   "source": [
    "output_df = pd.DataFrame({'ID': ids, 'Prediction': y_test_pred_proba})\n",
    "\n",
    "output_df.to_csv('Predictions/attempt_27_nulls_hyperopt_10000_iter_expanded_normal_param.csv', index=False)"
   ]
  },
  {
   "cell_type": "code",
   "execution_count": null,
   "id": "b3bd8b0e-8346-427d-b914-a5f38a6b28fb",
   "metadata": {},
   "outputs": [],
   "source": []
  }
 ],
 "metadata": {
  "kernelspec": {
   "display_name": "Python 3 (ipykernel)",
   "language": "python",
   "name": "python3"
  },
  "language_info": {
   "codemirror_mode": {
    "name": "ipython",
    "version": 3
   },
   "file_extension": ".py",
   "mimetype": "text/x-python",
   "name": "python",
   "nbconvert_exporter": "python",
   "pygments_lexer": "ipython3",
   "version": "3.12.4"
  }
 },
 "nbformat": 4,
 "nbformat_minor": 5
}
