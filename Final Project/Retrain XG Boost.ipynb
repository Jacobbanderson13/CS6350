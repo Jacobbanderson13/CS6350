{
 "cells": [
  {
   "cell_type": "code",
   "execution_count": null,
   "id": "6173f216-a217-41ef-b1e2-588b74098112",
   "metadata": {},
   "outputs": [],
   "source": [
    "import xgboost as xgb\n",
    "from sklearn.metrics import roc_auc_score\n",
    "from sklearn.model_selection import GridSearchCV, train_test_split\n",
    "import numpy as np\n",
    "import pandas as pd\n",
    "from sklearn.preprocessing import LabelEncoder"
   ]
  },
  {
   "cell_type": "code",
   "execution_count": null,
   "id": "89d13a9e-9430-4f11-a9cb-68d4d360dbd7",
   "metadata": {},
   "outputs": [],
   "source": [
    "train = pd.read_csv('Data/train_final.csv')\n",
    "\n",
    "X = train.drop(columns=['income>50K'])\n",
    "y = train['income>50K']\n",
    "\n",
    "test_df = pd.read_csv('Data/test_final.csv')\n",
    "X_test = test_df.drop('ID', axis=1) \n",
    "ids = test_df['ID']"
   ]
  },
  {
   "cell_type": "code",
   "execution_count": null,
   "id": "a1226157-480f-4d25-8d8f-8bde74a21556",
   "metadata": {},
   "outputs": [],
   "source": [
    "def handle_categorical(X_train, X_test):\n",
    "    X_train = pd.get_dummies(X_train, drop_first=True)\n",
    "    \n",
    "    X_test = pd.get_dummies(X_test, drop_first=True)\n",
    "    \n",
    "    X_train, X_test = X_train.align(X_test, join='left', axis=1, fill_value=0)\n",
    "    \n",
    "    return X_train, X_test\n",
    "    "
   ]
  },
  {
   "cell_type": "code",
   "execution_count": null,
   "id": "48bef063-4128-4234-aa46-618adc3bb405",
   "metadata": {},
   "outputs": [],
   "source": [
    "X, X_test = handle_categorical(X, X_test)"
   ]
  },
  {
   "cell_type": "code",
   "execution_count": null,
   "id": "ec8002e2-4e40-4f2a-8163-80b7ba1bacb8",
   "metadata": {},
   "outputs": [],
   "source": [
    "X_train, X_val, y_train, y_val = train_test_split(X, y, test_size=0.2, random_state=42, stratify=y)\n"
   ]
  },
  {
   "cell_type": "code",
   "execution_count": null,
   "id": "11db47ad-70f2-4b05-bbe0-359848262a0b",
   "metadata": {},
   "outputs": [],
   "source": [
    "\n",
    "xgb_model = xgb.XGBClassifier(eval_metric='logloss')\n",
    "\n",
    "param_grid = {\n",
    "    'n_estimators': [50, 100, 200, 250, 300, 350, 400, 450],\n",
    "    'eta': [0.01, 0.1, 0.2, 0.3],\n",
    "    'max_depth': [3, 5, 7, 9],\n",
    "    'subsample': [0.8, 1.0],\n",
    "}\n",
    "\n"
   ]
  },
  {
   "cell_type": "code",
   "execution_count": null,
   "id": "d94e55e7-2d1a-4564-b822-c6c163fe0262",
   "metadata": {},
   "outputs": [],
   "source": [
    "%%time\n",
    "grid_search = GridSearchCV(estimator=xgb_model, param_grid=param_grid, scoring='roc_auc', cv=5, verbose=1)\n",
    "\n",
    "grid_search.fit(X_train, y_train)\n",
    "\n",
    "best_params = grid_search.best_params_\n",
    "print(f\"Best Parameters: {best_params}\")"
   ]
  },
  {
   "cell_type": "code",
   "execution_count": null,
   "id": "46c09744-1ca1-4b4d-92be-3e4b8dbca2d9",
   "metadata": {},
   "outputs": [],
   "source": [
    "xgb_best_model = xgb.XGBClassifier(**best_params, eval_metric='logloss')\n",
    "\n",
    "xgb_best_model.fit(X, y)"
   ]
  },
  {
   "cell_type": "code",
   "execution_count": null,
   "id": "0576bb0a-8acf-46ea-8b91-1cd0c9d7cb2d",
   "metadata": {},
   "outputs": [],
   "source": [
    "y_test_pred_proba = xgb_best_model.predict_proba(X_test)[:, 1]\n"
   ]
  },
  {
   "cell_type": "code",
   "execution_count": null,
   "id": "88e59172-5cf0-4e73-a589-32622724a753",
   "metadata": {},
   "outputs": [],
   "source": [
    "output_df = pd.DataFrame({'ID': ids, 'Prediction': y_test_pred_proba})\n",
    "output_df.to_csv('Predictions/attempt_16_main_4_params_450_estimators_non_probabilities.csv', index=False)"
   ]
  },
  {
   "cell_type": "code",
   "execution_count": null,
   "id": "ec2d9de9-c7b5-4e49-be8d-59d79fe568a8",
   "metadata": {},
   "outputs": [],
   "source": []
  }
 ],
 "metadata": {
  "kernelspec": {
   "display_name": "Python 3 (ipykernel)",
   "language": "python",
   "name": "python3"
  },
  "language_info": {
   "codemirror_mode": {
    "name": "ipython",
    "version": 3
   },
   "file_extension": ".py",
   "mimetype": "text/x-python",
   "name": "python",
   "nbconvert_exporter": "python",
   "pygments_lexer": "ipython3",
   "version": "3.12.4"
  }
 },
 "nbformat": 4,
 "nbformat_minor": 5
}
