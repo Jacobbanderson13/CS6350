{
 "cells": [
  {
   "cell_type": "code",
   "execution_count": null,
   "id": "6173f216-a217-41ef-b1e2-588b74098112",
   "metadata": {},
   "outputs": [],
   "source": [
    "import xgboost as xgb\n",
    "from sklearn.metrics import roc_auc_score\n",
    "from sklearn.model_selection import GridSearchCV, train_test_split\n",
    "import numpy as np\n",
    "import pandas as pd\n",
    "from sklearn.preprocessing import LabelEncoder\n",
    "from sklearn.experimental import enable_iterative_imputer\n",
    "from sklearn.impute import IterativeImputer\n",
    "from hyperopt import fmin, tpe, hp, Trials, STATUS_OK"
   ]
  },
  {
   "cell_type": "code",
   "execution_count": null,
   "id": "02894c37-0ae9-4f32-bca5-00874393df73",
   "metadata": {},
   "outputs": [],
   "source": [
    "train = pd.read_csv('Data/train_final.csv')\n",
    "\n",
    "X = train.drop(columns=['income>50K'])\n",
    "y = train['income>50K']\n",
    "\n",
    "\n",
    "\n",
    "test_df = pd.read_csv('Data/test_final.csv')\n",
    "X_test = test_df.drop('ID', axis=1)  \n",
    "ids = test_df['ID'] "
   ]
  },
  {
   "cell_type": "code",
   "execution_count": null,
   "id": "a1226157-480f-4d25-8d8f-8bde74a21556",
   "metadata": {},
   "outputs": [],
   "source": [
    "def handle_categorical(X_train, X_test):\n",
    "    X_train = pd.get_dummies(X_train, drop_first=True)\n",
    "    \n",
    "    X_test = pd.get_dummies(X_test, drop_first=True)\n",
    "    \n",
    "    X_train, X_test = X_train.align(X_test, join='left', axis=1, fill_value=0)\n",
    "    \n",
    "    return X_train, X_test\n",
    "    "
   ]
  },
  {
   "cell_type": "code",
   "execution_count": null,
   "id": "48bef063-4128-4234-aa46-618adc3bb405",
   "metadata": {},
   "outputs": [],
   "source": [
    "X, X_test = handle_categorical(X, X_test)"
   ]
  },
  {
   "cell_type": "code",
   "execution_count": null,
   "id": "ec8002e2-4e40-4f2a-8163-80b7ba1bacb8",
   "metadata": {},
   "outputs": [],
   "source": [
    "X_train, X_val, y_train, y_val = train_test_split(X, y, test_size=0.2, random_state=42, stratify=y)\n"
   ]
  },
  {
   "cell_type": "code",
   "execution_count": null,
   "id": "11db47ad-70f2-4b05-bbe0-359848262a0b",
   "metadata": {},
   "outputs": [],
   "source": [
    "%%time\n",
    "def objective(params):\n",
    "    dtrain = xgb.DMatrix(X_train, label=y_train)\n",
    "    dval = xgb.DMatrix(X_val, label=y_val)\n",
    "    \n",
    "    xgb_params = {\n",
    "        'eta': params['eta'],\n",
    "        'max_depth': in`t(params['max_depth']),\n",
    "        'subsample': params['subsample'],\n",
    "        'colsample_bytree': params['colsample_bytree'],\n",
    "        'objective': 'binary:logistic',\n",
    "        'eval_metric': 'auc',\n",
    "        'seed': 42\n",
    "    }\n",
    "    \n",
    "    model = xgb.train(\n",
    "        xgb_params, \n",
    "        dtrain, \n",
    "        num_boost_round=int(params['n_estimators']),\n",
    "        evals=[(dval, 'validation')],\n",
    "        early_stopping_rounds=50,\n",
    "        verbose_eval=False\n",
    "    )\n",
    "    \n",
    "    preds = model.predict(dval)\n",
    "    \n",
    "    auc = roc_auc_score(y_val, preds)\n",
    "    \n",
    "    return {'loss': -auc, 'status': STATUS_OK}\n",
    "\n",
    "\n",
    "param_space = {\n",
    "    'eta': hp.uniform('eta', 0.01, 0.5),\n",
    "    'max_depth': hp.quniform('max_depth', 3, 15, 1),\n",
    "    'subsample': hp.uniform('subsample', 0.5, 1.0),\n",
    "    'colsample_bytree': hp.uniform('colsample_bytree', 0.5, 1.0),\n",
    "    'n_estimators': hp.quniform('n_estimators', 50, 800, 10),\n",
    "}\n",
    "\n",
    "trials = Trials()\n",
    "\n",
    "best_params = fmin(\n",
    "    fn=objective,\n",
    "    space=param_space,\n",
    "    algo=tpe.suggest,\n",
    "    max_evals=40000,\n",
    "    trials=trials\n",
    ")\n",
    "\n",
    "\n",
    "best_params['max_depth'] = int(best_params['max_depth'])\n",
    "best_params['n_estimators'] = int(best_params['n_estimators'])\n",
    "\n",
    "print(\"Best Parameters:\", best_params)\n",
    "\n",
    "final_params = {\n",
    "    'eta': best_params['eta'],\n",
    "    'max_depth': best_params['max_depth'],\n",
    "    'subsample': best_params['subsample'],\n",
    "    'colsample_bytree': best_params['colsample_bytree'],\n",
    "    'objective': 'binary:logistic',\n",
    "    'eval_metric': 'auc',\n",
    "    'seed': 42\n",
    "}\n",
    "\n",
    "dtrain_final = xgb.DMatrix(X_train, label=y_train)\n",
    "dtest_final = xgb.DMatrix(X_test)"
   ]
  },
  {
   "cell_type": "code",
   "execution_count": null,
   "id": "46c09744-1ca1-4b4d-92be-3e4b8dbca2d9",
   "metadata": {},
   "outputs": [],
   "source": [
    "dtrain_final = xgb.DMatrix(X, label=y)\n",
    "dtest_final = xgb.DMatrix(X_test)\n",
    "\n",
    "final_model = xgb.train(\n",
    "    final_params,\n",
    "    dtrain_final,\n",
    "    num_boost_round=best_params['n_estimators']\n",
    ")\n"
   ]
  },
  {
   "cell_type": "code",
   "execution_count": null,
   "id": "0576bb0a-8acf-46ea-8b91-1cd0c9d7cb2d",
   "metadata": {},
   "outputs": [],
   "source": [
    "y_test_pred_proba = final_model.predict(dtest_final)\n"
   ]
  },
  {
   "cell_type": "code",
   "execution_count": null,
   "id": "88e59172-5cf0-4e73-a589-32622724a753",
   "metadata": {},
   "outputs": [],
   "source": [
    "output_df = pd.DataFrame({'ID': ids, 'Prediction': y_test_pred_proba})\n",
    "output_df.to_csv('Predictions/attempt_31_retrain_hyperopt_40000_iter_expanded_normal_param.csv', index=False)"
   ]
  }
 ],
 "metadata": {
  "kernelspec": {
   "display_name": "Python 3 (ipykernel)",
   "language": "python",
   "name": "python3"
  },
  "language_info": {
   "codemirror_mode": {
    "name": "ipython",
    "version": 3
   },
   "file_extension": ".py",
   "mimetype": "text/x-python",
   "name": "python",
   "nbconvert_exporter": "python",
   "pygments_lexer": "ipython3",
   "version": "3.12.4"
  }
 },
 "nbformat": 4,
 "nbformat_minor": 5
}
